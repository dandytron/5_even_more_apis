{
 "cells": [
  {
   "cell_type": "markdown",
   "id": "dc781416-7072-46e4-b572-ba535b18c1ee",
   "metadata": {},
   "source": [
    "## 1. Examine both Open Meteo and Tomorrow and decide which one you'd prefer to use. What drove your decision?"
   ]
  },
  {
   "cell_type": "markdown",
   "id": "dd328166-725f-4d87-a146-df7787e5f7f3",
   "metadata": {},
   "source": [
    "### Open Meteo seems slightly more... approachable? But Tomorrow has all those companies using it, huh..."
   ]
  },
  {
   "cell_type": "markdown",
   "id": "4c32b1ff-b825-4c3c-a818-25a4f05d8a1a",
   "metadata": {},
   "source": [
    "## 2. What is the URL to the documentation? (You don't use code for this one)"
   ]
  },
  {
   "cell_type": "markdown",
   "id": "3049680d-8269-4ed5-9016-fd1d8e69b94d",
   "metadata": {},
   "source": [
    "### https://open-meteo.com/en/docs"
   ]
  },
  {
   "cell_type": "markdown",
   "id": "9c7e4acf-0827-4988-b6bc-2c7741ce9c7c",
   "metadata": {},
   "source": [
    "## 3. Make a request for the current weather where you are born, or somewhere you've lived."
   ]
  },
  {
   "cell_type": "code",
   "execution_count": 37,
   "id": "990ae798-b2b4-42b0-9c33-94d684686df5",
   "metadata": {},
   "outputs": [
    {
     "name": "stdout",
     "output_type": "stream",
     "text": [
      "Coordinates 38.62271499633789°N -90.21289825439453°E\n",
      "Current temperature in St. Louis: 22.49\n",
      "Current relative humidity in St. Louis: 24.03\n"
     ]
    }
   ],
   "source": [
    "import openmeteo_requests\n",
    "\n",
    "import pandas as pd\n",
    "import requests_cache\n",
    "from retry_requests import retry\n",
    "\n",
    "# Setup the Open-Meteo API client with cache and retry on error\n",
    "cache_session = requests_cache.CachedSession('.cache', expire_after = 3600)\n",
    "retry_session = retry(cache_session, retries = 5, backoff_factor = 0.2)\n",
    "openmeteo = openmeteo_requests.Client(session = retry_session)\n",
    "# Make sure all required weather variables are listed here\n",
    "# The order of variables in hourly or daily is important to assign them correctly below\n",
    "url = \"https://api.open-meteo.com/v1/forecast\"\n",
    "params = {\n",
    "\t\"latitude\": 38.6273,\n",
    "\t\"longitude\": -90.1979,\n",
    "\t\"current\": [\"temperature_2m\", \"apparent_temperature\", \"relative_humidity_2m\"],\n",
    "\t\"timezone\": \"Europe/London\",\n",
    "\t\"forecast_days\": 1\n",
    "}\n",
    "responses = openmeteo.weather_api(url, params=params)\n",
    "\n",
    "# Process first location. Add a for-loop for multiple locations or weather models\n",
    "response = responses[0]\n",
    "print(f\"Coordinates {response.Latitude()}°N {response.Longitude()}°E\")\n",
    "\n",
    "# Current values. The order of variables needs to be the same as requested.\n",
    "current = response.Current()\n",
    "current_temperature_2m = current.Variables(0).Value()\n",
    "current_relative_humidity_2m = current.Variables(1).Value()\n",
    "\n",
    "print(f\"Current temperature in St. Louis: {current_temperature_2m:.2f}\")\n",
    "print(f\"Current relative humidity in St. Louis: {current_relative_humidity_2m:.2f}\")"
   ]
  },
  {
   "cell_type": "markdown",
   "id": "61d9c734-1668-422b-aad9-331a2575c340",
   "metadata": {},
   "source": [
    "## 4. Print out the country this location is in."
   ]
  },
  {
   "cell_type": "markdown",
   "id": "d6e14939-3606-4661-ad93-aa5b5968572b",
   "metadata": {},
   "source": [
    "#### I'm not actually sure I can retrieve that? Like you search by latitude and longitude, but the response doesn't seem to retrieve that..."
   ]
  },
  {
   "cell_type": "markdown",
   "id": "f1ae0b1a-5509-46f5-b9a0-6b97133541a8",
   "metadata": {},
   "source": [
    "## 5. Print out the difference between the current temperature and how warm it feels. Use \"It feels ___ degrees colder\" or \"It feels ___ degrees warmer,\" not negative numbers.\n"
   ]
  },
  {
   "cell_type": "code",
   "execution_count": 38,
   "id": "663125aa-32d2-46e2-aad9-aaaa160efe06",
   "metadata": {
    "jp-MarkdownHeadingCollapsed": true
   },
   "outputs": [
    {
     "name": "stdout",
     "output_type": "stream",
     "text": [
      "It feels 1.54 degrees Fahrenheit warmer\n"
     ]
    }
   ],
   "source": [
    "current_temp = current.Variables(0).Value()\n",
    "feelslike_temp = current.Variables(1).Value()\n",
    "\n",
    "temp_diff = round((current_temp - feelslike_temp), 2)\n",
    "\n",
    "if temp_diff > 0:\n",
    "    print(f\"It feels {temp_diff} degrees Fahrenheit colder\")\n",
    "else:\n",
    "    print(f\"It feels {abs(temp_diff)} degrees Fahrenheit warmer\")"
   ]
  },
  {
   "cell_type": "markdown",
   "id": "0c27943b-59e7-489c-bef9-01c2c20652da",
   "metadata": {},
   "source": [
    "## 6. What's the current temperature at Heathrow International Airport? Use the airport's IATA code to search."
   ]
  },
  {
   "cell_type": "markdown",
   "id": "31543992-8a86-42aa-98b3-753b343fa22b",
   "metadata": {},
   "source": [
    "#### First off - you can't use IATA to search, only lat and longitude"
   ]
  },
  {
   "cell_type": "code",
   "execution_count": 30,
   "id": "882dedd9-6faa-47d3-a189-470c1c27424c",
   "metadata": {},
   "outputs": [
    {
     "name": "stdout",
     "output_type": "stream",
     "text": [
      "Current temperature at Heathrow Airport: 21.15\n"
     ]
    }
   ],
   "source": [
    "url = \"https://api.open-meteo.com/v1/forecast\"\n",
    "params = {\n",
    "\t\"latitude\": 51.4704,\n",
    "\t\"longitude\": -0.4586,\n",
    "\t\"current\": \"temperature_2m\"\n",
    "}\n",
    "responses = openmeteo.weather_api(url, params=params)\n",
    "\n",
    "# Process first location. Add a for-loop for multiple locations or weather models\n",
    "response = responses[0]\n",
    "\n",
    "# Current values. The order of variables needs to be the same as requested.\n",
    "current = response.Current()\n",
    "current_temperature_2m = current.Variables(0).Value()\n",
    "\n",
    "print(f\"Current temperature at Heathrow Airport: {current_temperature_2m:.2f}\")"
   ]
  },
  {
   "cell_type": "markdown",
   "id": "5116e375-afd4-4416-9931-6619e9d1cfd8",
   "metadata": {},
   "source": [
    "## 7. What URL would I use to request a 3-day forecast at Heathrow?"
   ]
  },
  {
   "cell_type": "code",
   "execution_count": 41,
   "id": "0ff2244d-a79e-41bc-afdc-f6b3652292fb",
   "metadata": {},
   "outputs": [
    {
     "name": "stdout",
     "output_type": "stream",
     "text": [
      "Timezone difference to GMT+0 3600 s\n",
      "                       date  temperature_max  temperature_min\n",
      "0 2025-06-10 23:00:00+00:00        22.346001           12.546\n",
      "1 2025-06-11 23:00:00+00:00        24.046000           13.896\n",
      "2 2025-06-12 23:00:00+00:00        23.746000           15.046\n"
     ]
    }
   ],
   "source": [
    "url = \"https://api.open-meteo.com/v1/forecast\"\n",
    "params = {\n",
    "\t\"latitude\": 51.4704,\n",
    "\t\"longitude\": -0.4586,\n",
    "\t\"daily\": [\"temperature_2m_max\", \"temperature_2m_min\"],\n",
    "\t\"timezone\": \"Europe/London\",\n",
    "\t\"forecast_days\": 3\n",
    "}\n",
    "responses = openmeteo.weather_api(url, params=params)\n",
    "\n",
    "# Process first location. Add a for-loop for multiple locations or weather models\n",
    "response = responses[0]\n",
    "print(f\"Timezone difference to GMT+0 {response.UtcOffsetSeconds()} s\")\n",
    "\n",
    "# Process daily data. The order of variables needs to be the same as requested.\n",
    "daily = response.Daily()\n",
    "daily_temperature_2m_max = daily.Variables(0).ValuesAsNumpy()\n",
    "daily_temperature_2m_min = daily.Variables(1).ValuesAsNumpy()\n",
    "\n",
    "daily_data = {\"date\": pd.date_range(\n",
    "\tstart = pd.to_datetime(daily.Time(), unit = \"s\", utc = True),\n",
    "\tend = pd.to_datetime(daily.TimeEnd(), unit = \"s\", utc = True),\n",
    "\tfreq = pd.Timedelta(seconds = daily.Interval()),\n",
    "\tinclusive = \"left\"\n",
    ")}\n",
    "\n",
    "daily_data[\"temperature_max\"] = daily_temperature_2m_max\n",
    "daily_data[\"temperature_min\"] = daily_temperature_2m_min\n",
    "\n",
    "daily_dataframe = pd.DataFrame(data = daily_data)\n",
    "print(daily_dataframe)"
   ]
  },
  {
   "cell_type": "markdown",
   "id": "b0a1d07a-38ae-4b14-9dc9-e319021e4346",
   "metadata": {},
   "source": [
    "## 8. Print the date of each of the 3 days you're getting a forecast for."
   ]
  },
  {
   "cell_type": "markdown",
   "id": "f119d3bd-0669-4e74-b576-721165056297",
   "metadata": {},
   "source": [
    "#### See above!"
   ]
  },
  {
   "cell_type": "markdown",
   "id": "dcd270cd-bce9-4695-8c3a-5a2958cf8d87",
   "metadata": {},
   "source": [
    "## 9. Print the maximum temperature of each of the days."
   ]
  },
  {
   "cell_type": "markdown",
   "id": "6ad9218e-965d-41f4-97c7-04126d151e68",
   "metadata": {},
   "source": [
    "#### See above!"
   ]
  },
  {
   "cell_type": "markdown",
   "id": "d5cb48de-d987-430c-ab2b-c3f88fb8283d",
   "metadata": {},
   "source": [
    "## 10. Print only the day with the highest maximum temperature."
   ]
  },
  {
   "cell_type": "code",
   "execution_count": 56,
   "id": "491b0474-14ee-4d36-9f46-6f8ab8e17517",
   "metadata": {},
   "outputs": [
    {
     "name": "stdout",
     "output_type": "stream",
     "text": [
      "Not sure how best to format this, but! 2025-06-11 23:00:00+00:00\n"
     ]
    }
   ],
   "source": [
    "max_temp_row = daily_dataframe.loc[daily_dataframe['temperature_max'].idxmax()]\n",
    "print(f\"Not sure how best to format this, but! {max_temp_row['date']}\")"
   ]
  },
  {
   "cell_type": "markdown",
   "id": "5fbfb157-34a8-4c0d-b3e1-04f148e14140",
   "metadata": {},
   "source": [
    "## 11. Did you find this easier or more difficult than using the weatherapi.com, and why? Which would you recommend to someone interesting in building a tool around weather information?\n"
   ]
  },
  {
   "cell_type": "code",
   "execution_count": null,
   "id": "e2304659-8278-4279-b752-38d3cbbd7b1e",
   "metadata": {},
   "outputs": [],
   "source": [
    "#### I guess it really depends on how granular they want to go. I feel like they'd have to build some sort of layer for interpreting latitude and longitude, assuming that there's not a better way to look up locations with coordinates. I mostly used the docs for"
   ]
  }
 ],
 "metadata": {
  "kernelspec": {
   "display_name": "Python 3 (ipykernel)",
   "language": "python",
   "name": "python3"
  },
  "language_info": {
   "codemirror_mode": {
    "name": "ipython",
    "version": 3
   },
   "file_extension": ".py",
   "mimetype": "text/x-python",
   "name": "python",
   "nbconvert_exporter": "python",
   "pygments_lexer": "ipython3",
   "version": "3.13.3"
  }
 },
 "nbformat": 4,
 "nbformat_minor": 5
}
